{
 "cells": [
  {
   "cell_type": "markdown",
   "metadata": {},
   "source": [
    "# IMD Radar Network 2023\n",
    "- *author: Hamid Ali Syed*\n",
    "- *email: hamidsyed37[at]gmail[dot]com*\n",
    "- *date: Feb 25, 2023*\n",
    "\n",
    "## Introduction to India Meteorological Department (IMD) Radar Network\n",
    "## Overview\n",
    "The India Meteorological Department (IMD) operates a network of weather radars across India to monitor and predict weather patterns. This network of radars plays a crucial role in providing real-time weather information and forecasting services to various sectors such as agriculture, aviation, and disaster management.\n",
    "\n",
    "In this notebook, we will explore the IMD Radar Network and create a dataset containing sites with geographic coordinates and their band.\n",
    "\n",
    "## Data Collection\n",
    "To plot the IMD Radar Network, we will first gather data from the IMD website using web scraping techniques. We will scrape the IMD website to obtain information about the radar sites, including their names, locations, and bands.\n",
    "\n",
    "## Data Cleaning\n",
    "After scraping the IMD website, we will clean the data and create a dataset containing the radar site names, their geographic coordinates, and their bands. We will use Python libraries such as pandas and geopandas to perform this task.\n",
    "\n",
    "## Data Visualization\n",
    "Finally, we will plot the IMD Radar Network using matplotlib and geopandas libraries. We will use the dataset that we created earlier to plot the radar sites on a map of India. We will also add additional features such as state boundaries and rivers to provide context to the plot.\n",
    "\n",
    "By the end of this notebook, you will have a better understanding of the IMD Radar Network and the process of collecting, cleaning, and visualizing geospatial data. You will also have a dataset that you can use for further analysis and exploration of the IMD Radar Network.\n",
    "\n",
    "I hope this helps you get started with your introduction notebook. Let me know if you need any further assistance.\n",
    "\n",
    "Best,\n",
    "\n",
    "*-H. A. Syed*"
   ]
  },
  {
   "cell_type": "code",
   "execution_count": null,
   "metadata": {},
   "outputs": [],
   "source": []
  }
 ],
 "metadata": {
  "kernelspec": {
   "display_name": "Python 3 (ipykernel)",
   "language": "python",
   "name": "python3"
  },
  "language_info": {
   "codemirror_mode": {
    "name": "ipython",
    "version": 3
   },
   "file_extension": ".py",
   "mimetype": "text/x-python",
   "name": "python",
   "nbconvert_exporter": "python",
   "pygments_lexer": "ipython3",
   "version": "3.10.9"
  }
 },
 "nbformat": 4,
 "nbformat_minor": 4
}